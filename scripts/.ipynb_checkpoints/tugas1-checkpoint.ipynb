{
 "cells": [
  {
   "cell_type": "markdown",
   "metadata": {},
   "source": [
    "# Kecerdasan Buatan\n",
    "\n",
    "## Tugas 1: Regresi dan Neural Networks\n",
    "\n",
    "### Mekanisme\n",
    "\n",
    "Anda hanya diwajibkan untuk mengumpulkan file ini saja ke uploader yang disediakan di http://elearning2.uai.ac.id/. Ganti nama file ini saat pengumpulan menjadi tugas1_NIM.ipynb.\n",
    "\n",
    "**Keterlambatan**: Pengumpulan tugas yang melebihi tenggat yang telah ditentukan tidak akan diterima. Keterlambatan akan berakibat pada nilai nol untuk tugas ini.\n",
    "\n",
    "**Kolaborasi**: Anda diperbolehkan untuk berdiskusi dengan teman Anda, tetapi dilarang keras menyalin kode maupun tulisan dari teman Anda.\n",
    "\n",
    "### Petunjuk\n",
    "\n",
    "Terdapat enam _packages_ yang Anda akan gunakan dalam mengerjakan tugas ini, yaitu:\n",
    "\n",
    "- keras\n",
    "- matplotlib\n",
    "- numpy\n",
    "- pandas\n",
    "- pillow\n",
    "- scipy\n",
    "- seaborn\n",
    "\n",
    "Anda diperbolehkan (jika dirasa perlu) untuk mengimpor modul tambahan untuk tugas ini. Namun, seharusnya modul yang tersedia sudah cukup untuk memenuhi kebutuhan Anda. Untuk kode yang Anda ambil dari sumber lain, **cantumkan URL menuju referensi tersebut jika diambil dari internet**!\n",
    "\n",
    "Perhatikan poin untuk tiap soal! **Semakin kecil poinnya, berarti kode yang diperlukan untuk menjawab soal tersebut seharusnya semakin sedikit!**"
   ]
  },
  {
   "cell_type": "markdown",
   "metadata": {},
   "source": [
    "**NIM:**\n",
    "\n",
    "**Nilai akhir: XX/50**"
   ]
  },
  {
   "cell_type": "markdown",
   "metadata": {},
   "source": [
    "### Deskripsi Dataset\n",
    "\n",
    "Pada tugas kali ini, Anda akan mencoba menggunakan metode *machine learning* untuk melakukan dua jenis prediksi: **regresi** dan **klasifikasi**.\n",
    "\n",
    "**Untuk kasus regresi**, Anda diminta untuk memprediksi jumlah penjualan berdasarkan uang yang dihabiskan pada media iklan yang digunakan. Terdapat tiga media iklan, yaitu TV, Radio dan Newspaper. Dengan detail atribut sebagai berikut:\n",
    "\n",
    "- TV: biaya yang dihabiskan untuk iklan tayangan TV untuk setiap satu produk dalam sebuah pasar (dalam ribuan dollar)\n",
    "- Radio: biaya yang dihabiskan untuk iklan di radio (dalam ribuan dollar)\n",
    "- Newspaper: biaya yang dihabiskan untuk iklan di koran (dalam ribuan dollar)\n",
    "- Sales: penjualan dari setiap satuan produk pada suatu pasar (dalam ribuan widget)\n",
    "\n",
    "**Untuk kasus klasifikasi**, Anda akan menggunakan dataset Food-101 yang memiliki 101 kategori makanan dengan total 101.000 gambar makanan. Dataset untuk tugas ini diambil dari Food-101 (https://www.vision.ee.ethz.ch/datasets_extra/food-101/). Untuk versi yang lebih sederhana, Anda hanya akan membandingkan apakah gambar yang diberikan berupa *sushi* atau *pizza*. Anda akan melakukan klasifikasi menggunakan algoritma regresi logistik dan neural networks dalam tugas ini."
   ]
  },
  {
   "cell_type": "markdown",
   "metadata": {},
   "source": [
    "### Mengimpor Modul dan Dataset"
   ]
  },
  {
   "cell_type": "code",
   "execution_count": 1,
   "metadata": {},
   "outputs": [
    {
     "name": "stderr",
     "output_type": "stream",
     "text": [
      "Using TensorFlow backend.\n"
     ]
    }
   ],
   "source": [
    "from __future__ import print_function, division # Gunakan print(...) dan bukan print ...\n",
    "import matplotlib.pyplot as plt\n",
    "import numpy as np\n",
    "import pandas as pd\n",
    "import seaborn as sns\n",
    "import random\n",
    "\n",
    "import keras\n",
    "from keras.models import Sequential, load_model\n",
    "from keras.layers import Dense, Dropout, Flatten\n",
    "from keras.layers import Conv2D, MaxPooling2D\n",
    "from keras import backend as K\n",
    "from sklearn.linear_model import LinearRegression, LogisticRegression\n",
    "from sklearn.metrics import accuracy_score, confusion_matrix, mean_squared_error, r2_score\n",
    "from sklearn.model_selection import train_test_split\n",
    "from sklearn.preprocessing import LabelEncoder\n",
    "\n",
    "%matplotlib inline\n",
    "\n",
    "RANDOM_STATE = 1337\n",
    "np.random.seed(RANDOM_STATE)"
   ]
  },
  {
   "cell_type": "markdown",
   "metadata": {},
   "source": [
    "## 1. Eksplorasi Awal Data - Advertising (6 poin)"
   ]
  },
  {
   "cell_type": "code",
   "execution_count": 2,
   "metadata": {
    "collapsed": true
   },
   "outputs": [],
   "source": [
    "df = pd.read_csv('../datasets/advertising.csv', index_col=0)"
   ]
  },
  {
   "cell_type": "markdown",
   "metadata": {},
   "source": [
    "### Soal 1.1.a (1 poin)\n",
    "\n",
    "Laporkan deskripsi dari Advertising dataset dengan menggunakan metode dari Pandas!"
   ]
  },
  {
   "cell_type": "code",
   "execution_count": 3,
   "metadata": {},
   "outputs": [
    {
     "data": {
      "text/html": [
       "<div>\n",
       "<style>\n",
       "    .dataframe thead tr:only-child th {\n",
       "        text-align: right;\n",
       "    }\n",
       "\n",
       "    .dataframe thead th {\n",
       "        text-align: left;\n",
       "    }\n",
       "\n",
       "    .dataframe tbody tr th {\n",
       "        vertical-align: top;\n",
       "    }\n",
       "</style>\n",
       "<table border=\"1\" class=\"dataframe\">\n",
       "  <thead>\n",
       "    <tr style=\"text-align: right;\">\n",
       "      <th></th>\n",
       "      <th>TV</th>\n",
       "      <th>radio</th>\n",
       "      <th>newspaper</th>\n",
       "      <th>sales</th>\n",
       "    </tr>\n",
       "  </thead>\n",
       "  <tbody>\n",
       "    <tr>\n",
       "      <th>count</th>\n",
       "      <td>200.000000</td>\n",
       "      <td>200.000000</td>\n",
       "      <td>200.000000</td>\n",
       "      <td>200.000000</td>\n",
       "    </tr>\n",
       "    <tr>\n",
       "      <th>mean</th>\n",
       "      <td>147.042500</td>\n",
       "      <td>23.264000</td>\n",
       "      <td>30.554000</td>\n",
       "      <td>14.022500</td>\n",
       "    </tr>\n",
       "    <tr>\n",
       "      <th>std</th>\n",
       "      <td>85.854236</td>\n",
       "      <td>14.846809</td>\n",
       "      <td>21.778621</td>\n",
       "      <td>5.217457</td>\n",
       "    </tr>\n",
       "    <tr>\n",
       "      <th>min</th>\n",
       "      <td>0.700000</td>\n",
       "      <td>0.000000</td>\n",
       "      <td>0.300000</td>\n",
       "      <td>1.600000</td>\n",
       "    </tr>\n",
       "    <tr>\n",
       "      <th>25%</th>\n",
       "      <td>74.375000</td>\n",
       "      <td>9.975000</td>\n",
       "      <td>12.750000</td>\n",
       "      <td>10.375000</td>\n",
       "    </tr>\n",
       "    <tr>\n",
       "      <th>50%</th>\n",
       "      <td>149.750000</td>\n",
       "      <td>22.900000</td>\n",
       "      <td>25.750000</td>\n",
       "      <td>12.900000</td>\n",
       "    </tr>\n",
       "    <tr>\n",
       "      <th>75%</th>\n",
       "      <td>218.825000</td>\n",
       "      <td>36.525000</td>\n",
       "      <td>45.100000</td>\n",
       "      <td>17.400000</td>\n",
       "    </tr>\n",
       "    <tr>\n",
       "      <th>max</th>\n",
       "      <td>296.400000</td>\n",
       "      <td>49.600000</td>\n",
       "      <td>114.000000</td>\n",
       "      <td>27.000000</td>\n",
       "    </tr>\n",
       "  </tbody>\n",
       "</table>\n",
       "</div>"
      ],
      "text/plain": [
       "               TV       radio   newspaper       sales\n",
       "count  200.000000  200.000000  200.000000  200.000000\n",
       "mean   147.042500   23.264000   30.554000   14.022500\n",
       "std     85.854236   14.846809   21.778621    5.217457\n",
       "min      0.700000    0.000000    0.300000    1.600000\n",
       "25%     74.375000    9.975000   12.750000   10.375000\n",
       "50%    149.750000   22.900000   25.750000   12.900000\n",
       "75%    218.825000   36.525000   45.100000   17.400000\n",
       "max    296.400000   49.600000  114.000000   27.000000"
      ]
     },
     "execution_count": 3,
     "metadata": {},
     "output_type": "execute_result"
    }
   ],
   "source": [
    "df.describe()"
   ]
  },
  {
   "cell_type": "markdown",
   "metadata": {},
   "source": [
    "### Soal 1.1.b (2 poin)\n",
    "\n",
    "Berapa nilai `sales` paling rendah dan nilai `sales` paling tinggi dari data yang Anda miliki? Berapa ribu dollar uang yang dihabiskan untuk membayar biaya iklan di `TV`, `radio`, dan `newspaper` untuk produk tersebut?\n"
   ]
  },
  {
   "cell_type": "code",
   "execution_count": 4,
   "metadata": {},
   "outputs": [
    {
     "name": "stdout",
     "output_type": "stream",
     "text": [
      "Minimum sales = 1.60\n",
      "Maximum sales = 27.00\n",
      "Total advertising = 40172.100\n"
     ]
    }
   ],
   "source": [
    "print (\"Minimum sales = %.2f\" %df.sales.min())\n",
    "print (\"Maximum sales = %.2f\" %df.sales.max())\n",
    "Total_adv = df.TV.sum()+df.radio.sum()+df.newspaper.sum()\n",
    "print (\"Total advertising = %.3f\" %Total_adv)"
   ]
  },
  {
   "cell_type": "markdown",
   "metadata": {},
   "source": [
    "### Soal 1.2 (3 poin)\n",
    "\n",
    "Gambarkan scatter plot dari `sales` terhadap media iklan `TV`, `radio`, dan `newspaper`."
   ]
  },
  {
   "cell_type": "code",
   "execution_count": 5,
   "metadata": {},
   "outputs": [
    {
     "data": {
      "image/png": "[encoded data removed]",
      "text/plain": [
       "<matplotlib.figure.Figure at 0x274753866d8>"
      ]
     },
     "metadata": {},
     "output_type": "display_data"
    }
   ],
   "source": [
    "ax = plt.figure().add_subplot(111)\n",
    "ax.scatter(df.TV, df.sales, label='TV')\n",
    "ax.scatter(df.radio, df.sales, label='radio')\n",
    "ax.scatter(df.newspaper, df.sales, label='newspaper')\n",
    "plt.legend()\n",
    "plt.show()"
   ]
  },
  {
   "cell_type": "markdown",
   "metadata": {},
   "source": [
    "## 2. Prediksi Penjualan Berdasarkan Biaya Media Iklan dengan Regresi Linear (19 poin)"
   ]
  },
  {
   "cell_type": "markdown",
   "metadata": {
    "collapsed": true
   },
   "source": [
    "### Soal 2.1 (4 poin)\n",
    "\n",
    "Kita akan membuat simple linear regression dengan satu fitur. Dalam kasus ini, mari mencoba melihat hubungan antara `sales` dengan biaya untuk media iklan di `TV`.\n",
    "\n",
    "Ambil fitur dari kolom `TV` dan response dari kolom `sales`, kemudian buat sebuah model linear regression menggunakan pustaka scikit-learn dan latih model tersebut dengan data yang Anda miliki! Laporkan nilai bias dan koefisiennya. Lalu, jelaskan bagaimana intepretasi Anda terhadap koefisien dari model yang Anda miliki.\n",
    "\n",
    "*Petunjuk: Lihat cara penggunaan pustakanya di [sini](http://scikit-learn.org/stable/auto_examples/linear_model/plot_ols.html#sphx-glr-auto-examples-linear-model-plot-ols-py).*"
   ]
  },
  {
   "cell_type": "code",
   "execution_count": 6,
   "metadata": {},
   "outputs": [
    {
     "name": "stdout",
     "output_type": "stream",
     "text": [
      "Coefficients: \n",
      " [ 0.04753664]\n",
      "Intercept: \n",
      " 7.03259354913\n"
     ]
    }
   ],
   "source": [
    "#regr = LinearRegression()\n",
    "\n",
    "#x = df.TV.values.reshape(-1,1)\n",
    "#regr.fit(x, df.sales)\n",
    "x=df.TV\n",
    "y=df.sales\n",
    "regr = LinearRegression()\n",
    "x_train, y_train, x_test, y_test = train_test_split (x,y)\n",
    "#regr = LinearRegression()\n",
    "#regr.fit (x_train.values.reshape(-1,1),x_train)\n",
    "regr.fit(x.values.reshape(-1,1),y)\n",
    "print('Coefficients: \\n', regr.coef_)\n",
    "print('Intercept: \\n', regr.intercept_)"
   ]
  },
  {
   "cell_type": "markdown",
   "metadata": {},
   "source": [
    "*Jawaban Anda di sini*"
   ]
  },
  {
   "cell_type": "markdown",
   "metadata": {},
   "source": [
    "### Soal 2.2.a (3 poin)\n",
    "\n",
    "Mari kita lihat seberapa baik garis regresi yang dibuat dari model yang Anda miliki. Buatlah prediksi dari biaya `TV` yang paling minimum dan biaya `TV` yang paling maksimum! Gambarkan scatter plot dan garis regresi model Anda atas prediksi tersebut. Bagaimana garis tersebut mencocokkan data Anda?"
   ]
  },
  {
   "cell_type": "code",
   "execution_count": 7,
   "metadata": {},
   "outputs": [
    {
     "data": {
      "text/plain": [
       "<matplotlib.text.Text at 0x2747582be80>"
      ]
     },
     "execution_count": 7,
     "metadata": {},
     "output_type": "execute_result"
    },
    {
     "data": {
      "image/png": "[encoded data removed]",
      "text/plain": [
       "<matplotlib.figure.Figure at 0x2747551aa20>"
      ]
     },
     "metadata": {},
     "output_type": "display_data"
    }
   ],
   "source": [
    "sns.regplot(x=df.TV, y=df.sales)\n",
    "\n",
    "plt.xlabel('TV')\n",
    "plt.ylabel('sales')"
   ]
  },
  {
   "cell_type": "markdown",
   "metadata": {},
   "source": [
    "### Soal 2.2.b (3 poin)\n",
    "\n",
    "Coba lakukan kembali regresi pada data tersebut, tetapi kali ini gunakan fungsi basis polinomial orde 3. Gambarkan kembali scatter plot dan fungsi regresinya."
   ]
  },
  {
   "cell_type": "code",
   "execution_count": 8,
   "metadata": {},
   "outputs": [
    {
     "data": {
      "text/plain": [
       "<matplotlib.text.Text at 0x274758a7ac8>"
      ]
     },
     "execution_count": 8,
     "metadata": {},
     "output_type": "execute_result"
    },
    {
     "data": {
      "image/png": "[encoded data removed]",
      "text/plain": [
       "<matplotlib.figure.Figure at 0x27475854278>"
      ]
     },
     "metadata": {},
     "output_type": "display_data"
    }
   ],
   "source": [
    "sns.regplot(x=df.TV, y=df.sales, order=3)\n",
    "plt.xlabel('TV')\n",
    "plt.ylabel('sales')"
   ]
  },
  {
   "cell_type": "markdown",
   "metadata": {},
   "source": [
    "### Soal 2.2.c (3 poin)\n",
    "\n",
    "Salah satu cara untuk memastikan bahwa model yang Anda hasilkan sudah cukup baik pada model regresi adalah dengan menghitung nilai *mean squared error* (MSE). Coba hitung nilai MSE untuk regresi dengan dan tanpa fungsi basis polinomial seperti yang Anda kerjakan pada bagian a dan b. Apa yang dapat Anda amati? Apakah nilainya sesuai dengan ekspektasi Anda?"
   ]
  },
  {
   "cell_type": "code",
   "execution_count": 9,
   "metadata": {},
   "outputs": [
    {
     "name": "stdout",
     "output_type": "stream",
     "text": [
      "MSE order 1:  10.5126529157\n",
      "MSE order 3:  58.4181195642\n"
     ]
    }
   ],
   "source": [
    "y_pred1=(regr.intercept_+(x*regr.coef_))\n",
    "deg3 = np.polyfit(x, y, 3)#last item int deg3 is the intercept\n",
    "y_pred3= deg3[3] + (x*deg3[2]) + (x*deg3[1]) + (x*deg3[0]) \n",
    "print (\"MSE order 1: \", mean_squared_error(y, y_pred1))\n",
    "print (\"MSE order 3: \", mean_squared_error(y, y_pred3))"
   ]
  },
  {
   "cell_type": "markdown",
   "metadata": {},
   "source": [
    "# *Jawaban Anda di sini*"
   ]
  },
  {
   "cell_type": "markdown",
   "metadata": {},
   "source": [
    "### Soal 2.3.a (4 poin)\n",
    "\n",
    "Sekarang kita akan melakukan Multiple Linear Regression. Buatlah sebuah model dengan menggunakan Linear Regression dari scikit-learn untuk fitur `TV`, `radio`, dan `newspaper`. Variabel dependen yang digunakan adalah `sales`. Keluarkan pula nilai bias dan nilai koefisien ketiga fitur tersebut. Sebelum itu, bagi dataset menjadi data latih dan data uji dengan proporsi data uji sebanyak 20%."
   ]
  },
  {
   "cell_type": "code",
   "execution_count": 10,
   "metadata": {},
   "outputs": [
    {
     "name": "stdout",
     "output_type": "stream",
     "text": [
      "Coefficients: \n",
      " [[ 0.04792388  0.17449572  0.03337795]]\n",
      "Intercept: \n",
      " [ 1.73010818]\n"
     ]
    }
   ],
   "source": [
    "X = df.as_matrix(['TV', 'radio', 'newspaper'])\n",
    "y = df.as_matrix(['sales'])\n",
    "\n",
    "X_train, X_test, y_train, y_test = train_test_split (X, y, test_size=0.8, random_state=42)\n",
    "\n",
    "rgr = LinearRegression()\n",
    "rgr.fit(X_train, y_train)\n",
    "\n",
    "print('Coefficients: \\n', rgr.coef_)\n",
    "print('Intercept: \\n', rgr.intercept_)"
   ]
  },
  {
   "cell_type": "markdown",
   "metadata": {},
   "source": [
    "### Soal 2.3.b (2 poin)\n",
    "\n",
    "Lakukan evaluasi model *multiple linear regression* yang Anda miliki dari data uji dengan menggunakan *mean squared error*."
   ]
  },
  {
   "cell_type": "code",
   "execution_count": 11,
   "metadata": {},
   "outputs": [
    {
     "name": "stdout",
     "output_type": "stream",
     "text": [
      "MSE:  3.33597792459\n"
     ]
    }
   ],
   "source": [
    "y_test_pred = rgr.intercept_ + (np.transpose(X_test)[0] * rgr.coef_[0][0]) + (np.transpose(X_test)[1] * rgr.coef_[0][1]) + (np.transpose(X_test)[2] * rgr.coef_[0][2])\n",
    "\n",
    "print (\"MSE: \", mean_squared_error(y_test, y_test_pred))"
   ]
  },
  {
   "cell_type": "markdown",
   "metadata": {},
   "source": [
    "## 3. Eksplorasi Awal Data Food-101 (3 poin)"
   ]
  },
  {
   "cell_type": "markdown",
   "metadata": {},
   "source": [
    "Pertama, kita akan memuat data menggunakan kode di bawah ini. `X` merupakan gambar yang telah diterjemahkan dalam bentuk *tensor* atau array multidimensi. Dimensi pertama menunjukkan jumlah datanya, dua dimensi berikutnya menunjukkan panjang dan lebar dari gambarnya, dan dimensi keempat merupakan *channels* (RGB). Di sisi lain, `y` adalah kelas dari masing-masing gambar yang diberikan dalam `X` sehingga `X.shape[0] == y.shape[0]`."
   ]
  },
  {
   "cell_type": "code",
   "execution_count": 12,
   "metadata": {},
   "outputs": [
    {
     "data": {
      "text/plain": [
       "(2001, 28, 28, 3)"
      ]
     },
     "execution_count": 12,
     "metadata": {},
     "output_type": "execute_result"
    }
   ],
   "source": [
    "X = np.load('../datasets/food.npy')\n",
    "y = np.load('../datasets/food_labels.npy')\n",
    "\n",
    "X.shape"
   ]
  },
  {
   "cell_type": "markdown",
   "metadata": {},
   "source": [
    "### Soal 3.1 (1 poin)\n",
    "\n",
    "Berapa banyak gambar sushi dan pizza masing-masing dalam dataset ini?"
   ]
  },
  {
   "cell_type": "code",
   "execution_count": 13,
   "metadata": {},
   "outputs": [
    {
     "name": "stdout",
     "output_type": "stream",
     "text": [
      "Pizza:  1001\n",
      "Sushi:  1000\n"
     ]
    }
   ],
   "source": [
    "print (\"Pizza: \", np.count_nonzero(y=='pizza'))\n",
    "print (\"Sushi: \", np.count_nonzero(y=='sushi'))"
   ]
  },
  {
   "cell_type": "markdown",
   "metadata": {},
   "source": [
    "### Soal 3.2 (2 poin)\n",
    "\n",
    "Gambarkan satu contoh pizza (indeks 0-1000) dan satu contoh sushi (indeks 1001-2000) dari dataset yang digunakan.\n",
    "\n",
    "\n",
    "*Petunjuk: Anda dapat menggunakan `plt.imshow()`*"
   ]
  },
  {
   "cell_type": "code",
   "execution_count": 15,
   "metadata": {},
   "outputs": [
    {
     "data": {
      "text/plain": [
       "<matplotlib.image.AxesImage at 0x27475e71c88>"
      ]
     },
     "execution_count": 15,
     "metadata": {},
     "output_type": "execute_result"
    },
    {
     "data": {
      "image/png": "[encoded data removed]",
      "text/plain": [
       "<matplotlib.figure.Figure at 0x274758c5e80>"
      ]
     },
     "metadata": {},
     "output_type": "display_data"
    },
    {
     "data": {
      "image/png": "[encoded data removed]",
      "text/plain": [
       "<matplotlib.figure.Figure at 0x27475e71668>"
      ]
     },
     "metadata": {},
     "output_type": "display_data"
    }
   ],
   "source": [
    "img = plt.figure().add_subplot(121)\n",
    "plt.imshow(X[102])\n",
    "img = plt.figure().add_subplot(122)\n",
    "plt.imshow(X[1502])\n",
    "\n",
    "#plt.imshow(X[102])"
   ]
  },
  {
   "cell_type": "markdown",
   "metadata": {},
   "source": [
    "## 4. Klasifikasi Gambar Pizza dan Sushi Menggunakan Logistic Regression (7 poin)"
   ]
  },
  {
   "cell_type": "markdown",
   "metadata": {},
   "source": [
    "### Soal 4.1 (1 poin)\n",
    "\n",
    "Bagi dataset Anda menjadi 70-30 untuk training-test sets."
   ]
  },
  {
   "cell_type": "code",
   "execution_count": 16,
   "metadata": {},
   "outputs": [
    {
     "data": {
      "text/plain": [
       "(1400, 28, 28, 3)"
      ]
     },
     "execution_count": 16,
     "metadata": {},
     "output_type": "execute_result"
    }
   ],
   "source": [
    "X_train, X_test, y_train, y_test = train_test_split (X, y, test_size=0.3, random_state=42)\n",
    "X_train.shape"
   ]
  },
  {
   "cell_type": "markdown",
   "metadata": {},
   "source": [
    "### Soal 4.2.a (4 poin)\n",
    "\n",
    "Buat gambar yang berbentuk matriks pixel yang ada menjadi flat, lalu lakukan regresi logistik ke data yang telah Anda bagi tadi."
   ]
  },
  {
   "cell_type": "code",
   "execution_count": 17,
   "metadata": {},
   "outputs": [
    {
     "data": {
      "text/plain": [
       "LogisticRegression(C=1.0, class_weight=None, dual=False, fit_intercept=True,\n",
       "          intercept_scaling=1, max_iter=100, multi_class='ovr', n_jobs=1,\n",
       "          penalty='l2', random_state=None, solver='liblinear', tol=0.0001,\n",
       "          verbose=0, warm_start=False)"
      ]
     },
     "execution_count": 17,
     "metadata": {},
     "output_type": "execute_result"
    }
   ],
   "source": [
    "X_train.reshape(1400, 28*28*3)\n",
    "logr = LogisticRegression()\n",
    "logr.fit(X_train.reshape(1400, 28*28*3), y_train)"
   ]
  },
  {
   "cell_type": "markdown",
   "metadata": {},
   "source": [
    "### Soal 4.2.b (2 poin)\n",
    "\n",
    "Apa pendapat Anda tentang hasil klasifikasi tersebut? Apakah hasilnya sudah cukup baik?"
   ]
  },
  {
   "cell_type": "markdown",
   "metadata": {},
   "source": [
    "*Jawaban Anda di sini*"
   ]
  },
  {
   "cell_type": "markdown",
   "metadata": {},
   "source": [
    "## 5. Klasifikasi Gambar Pizza dan Sushi Menggunakan Neural Networks (15 poin)"
   ]
  },
  {
   "cell_type": "markdown",
   "metadata": {},
   "source": [
    "Coba klasifikasikan data Food-101 untuk kedua jenis makanan diatas dengan menggunakan pustaka dari Keras untuk *deep learning* atau *neural networks*. Jangan lupa untuk melaporkan akurasi dan *confusion matrix*-nya.\n",
    "\n",
    "*Petunjuk: Anda mungkin perlu mengubah dimensi dari data latih dan data uji Anda menjadi $n \\times d \\times d \\times 1$ dengan 1 dimensi terakhir adalah channel hitam-putih. Nilainya bisa menjadi 3 jika kita menggunakan channel warna RGB.*\n",
    "\n",
    "*Anda mungkin perlu menggunakan representasi one-of-K untuk label yang digunakan. Anda dapat menggunakan `keras.utils.to_categorical` untuk melakukan hal ini. Silakan mencontoh kode untuk deep neural networks sederhana di [sini](https://github.com/fchollet/keras/blob/master/examples/mnist_mlp.py) atau dengan menggunakan convolutional neural networks di [sini](https://github.com/fchollet/keras/blob/master/examples/mnist_cnn.py).*\n",
    "\n",
    "Penilaian:\n",
    "\n",
    "1. Implementasi kode neural networks (7 poin)\n",
    "2. Implementasi convolutional neural networks (5 poin)\n",
    "3. Melaporkan akurasi dan membuat heatmap confusion matrix (2 poin)"
   ]
  },
  {
   "cell_type": "markdown",
   "metadata": {},
   "source": [
    "### Soal 5.1 (2 poin)\n",
    "\n",
    "Ubahlah gambar pada `X_train` dan `X_test` yang Anda gunakan menjadi hitam-putih dengan mengambil nilai rata-rata dari channel RGB. Simpan sebagai `X_train_bw` dan `X_test_bw`.\n",
    "\n",
    "*Petunjuk: Gunakan `np.mean()`*"
   ]
  },
  {
   "cell_type": "code",
   "execution_count": 18,
   "metadata": {},
   "outputs": [
    {
     "name": "stdout",
     "output_type": "stream",
     "text": [
      "(1097600,)\n",
      "(1400, 28, 28)\n",
      "(471184,)\n",
      "(601, 28, 28)\n"
     ]
    }
   ],
   "source": [
    "X_train_bw = []\n",
    "for pic in X_train.reshape(1400, 28*28, 3):\n",
    "    for pix in pic:\n",
    "        X_train_bw += [np.mean(pix)]\n",
    "\n",
    "X_train_bw = np.asarray(X_train_bw)\n",
    "print (X_train_bw.shape)\n",
    "X_train_bw = X_train_bw.reshape(1400, 28, 28)\n",
    "print (X_train_bw.shape)\n",
    "\n",
    "X_test_bw = []\n",
    "for pic in X_test.reshape(601, 28*28, 3):\n",
    "    for pix in pic:\n",
    "        X_test_bw += [np.mean(pix)]\n",
    "\n",
    "X_test_bw = np.asarray(X_test_bw)\n",
    "print (X_test_bw.shape)\n",
    "X_test_bw = X_test_bw.reshape(601, 28, 28)\n",
    "print (X_test_bw.shape)"
   ]
  },
  {
   "cell_type": "markdown",
   "metadata": {},
   "source": [
    "### Soal 5.2 (2 poin)\n",
    "\n",
    "Anda akan mencoba menerapkan Neural Networks dengan model MultiLayerPerceptron (MLP). Jalankan kode di bawah ini. Apakah hasilnya lebih baik dibandingkan dengan menggunakan regresi logistik?\n",
    "\n",
    "*Kode di bawah diadaptasi dari [sini](https://github.com/fchollet/keras/blob/master/examples/mnist_mlp.py).*"
   ]
  },
  {
   "cell_type": "code",
   "execution_count": 19,
   "metadata": {
    "collapsed": true
   },
   "outputs": [],
   "source": [
    "from sklearn.preprocessing import LabelEncoder\n",
    "le = LabelEncoder()\n",
    "y_label = le.fit_transform(y)\n",
    "y_train = le.transform(y_train)\n",
    "y_test = le.transform(y_test)"
   ]
  },
  {
   "cell_type": "code",
   "execution_count": 20,
   "metadata": {},
   "outputs": [
    {
     "name": "stdout",
     "output_type": "stream",
     "text": [
      "1400 train samples\n",
      "601 test samples\n",
      "_________________________________________________________________\n",
      "Layer (type)                 Output Shape              Param #   \n",
      "=================================================================\n",
      "dense_1 (Dense)              (None, 512)               1204736   \n",
      "_________________________________________________________________\n",
      "dropout_1 (Dropout)          (None, 512)               0         \n",
      "_________________________________________________________________\n",
      "dense_2 (Dense)              (None, 512)               262656    \n",
      "_________________________________________________________________\n",
      "dropout_2 (Dropout)          (None, 512)               0         \n",
      "_________________________________________________________________\n",
      "dense_3 (Dense)              (None, 1)                 513       \n",
      "=================================================================\n",
      "Total params: 1,467,905\n",
      "Trainable params: 1,467,905\n",
      "Non-trainable params: 0\n",
      "_________________________________________________________________\n",
      "Train on 1400 samples, validate on 601 samples\n",
      "Epoch 1/20\n",
      "1400/1400 [==============================] - 1s - loss: 1.7839 - acc: 0.5136 - val_loss: 0.7681 - val_acc: 0.4908\n",
      "Epoch 2/20\n",
      "1400/1400 [==============================] - 0s - loss: 0.7343 - acc: 0.5279 - val_loss: 0.7358 - val_acc: 0.5191\n",
      "Epoch 3/20\n",
      "1400/1400 [==============================] - 0s - loss: 0.7743 - acc: 0.5436 - val_loss: 0.6743 - val_acc: 0.6339\n",
      "Epoch 4/20\n",
      "1400/1400 [==============================] - 0s - loss: 0.6745 - acc: 0.5943 - val_loss: 0.8596 - val_acc: 0.4925\n",
      "Epoch 5/20\n",
      "1400/1400 [==============================] - 0s - loss: 0.7109 - acc: 0.5464 - val_loss: 0.6988 - val_acc: 0.5225\n",
      "Epoch 6/20\n",
      "1400/1400 [==============================] - 0s - loss: 0.6839 - acc: 0.5807 - val_loss: 0.6453 - val_acc: 0.6256\n",
      "Epoch 7/20\n",
      "1400/1400 [==============================] - 0s - loss: 0.6613 - acc: 0.6264 - val_loss: 0.6366 - val_acc: 0.6506\n",
      "Epoch 8/20\n",
      "1400/1400 [==============================] - 0s - loss: 0.6587 - acc: 0.6121 - val_loss: 0.6389 - val_acc: 0.6140\n",
      "Epoch 9/20\n",
      "1400/1400 [==============================] - 0s - loss: 0.6540 - acc: 0.6214 - val_loss: 0.6354 - val_acc: 0.6273\n",
      "Epoch 10/20\n",
      "1400/1400 [==============================] - 0s - loss: 0.6599 - acc: 0.6300 - val_loss: 0.6478 - val_acc: 0.6273\n",
      "Epoch 11/20\n",
      "1400/1400 [==============================] - 0s - loss: 0.6287 - acc: 0.6421 - val_loss: 0.6427 - val_acc: 0.6306\n",
      "Epoch 12/20\n",
      "1400/1400 [==============================] - 0s - loss: 0.6368 - acc: 0.6550 - val_loss: 0.6206 - val_acc: 0.6439\n",
      "Epoch 13/20\n",
      "1400/1400 [==============================] - 0s - loss: 0.6144 - acc: 0.6679 - val_loss: 0.6202 - val_acc: 0.6423\n",
      "Epoch 14/20\n",
      "1400/1400 [==============================] - 0s - loss: 0.6080 - acc: 0.6579 - val_loss: 0.6479 - val_acc: 0.6040\n",
      "Epoch 15/20\n",
      "1400/1400 [==============================] - 0s - loss: 0.5956 - acc: 0.6871 - val_loss: 0.6260 - val_acc: 0.6406\n",
      "Epoch 16/20\n",
      "1400/1400 [==============================] - 0s - loss: 0.5941 - acc: 0.6907 - val_loss: 0.6357 - val_acc: 0.6539\n",
      "Epoch 17/20\n",
      "1400/1400 [==============================] - 0s - loss: 0.6021 - acc: 0.6671 - val_loss: 0.6296 - val_acc: 0.6389\n",
      "Epoch 18/20\n",
      "1400/1400 [==============================] - 0s - loss: 0.5652 - acc: 0.7100 - val_loss: 0.7043 - val_acc: 0.6240\n",
      "Epoch 19/20\n",
      "1400/1400 [==============================] - 0s - loss: 0.5709 - acc: 0.6950 - val_loss: 1.3806 - val_acc: 0.4975\n",
      "Epoch 20/20\n",
      "1400/1400 [==============================] - 0s - loss: 0.5990 - acc: 0.7043 - val_loss: 0.6162 - val_acc: 0.6739\n",
      "Test loss: 0.616224498697\n",
      "Test accuracy: 0.673876870789\n"
     ]
    }
   ],
   "source": [
    "batch_size = 64\n",
    "epochs = 20\n",
    "\n",
    "x_train = X_train.reshape(X_train.shape[0], 28 * 28 * 3)\n",
    "x_test = X_test.reshape(X_test.shape[0], 28 * 28 * 3)\n",
    "x_train = x_train.astype('float32')\n",
    "x_test = x_test.astype('float32')\n",
    "x_train /= 255\n",
    "x_test /= 255\n",
    "print(x_train.shape[0], 'train samples')\n",
    "print(x_test.shape[0], 'test samples')\n",
    "\n",
    "model = Sequential()\n",
    "model.add(Dense(512, activation='relu', input_shape=(28 * 28 * 3,)))\n",
    "model.add(Dropout(0.2))\n",
    "model.add(Dense(512, activation='relu'))\n",
    "model.add(Dropout(0.2))\n",
    "model.add(Dense(1, activation='sigmoid'))\n",
    "\n",
    "model.summary()\n",
    "\n",
    "model.compile(loss='binary_crossentropy',\n",
    "              optimizer='rmsprop',\n",
    "              metrics=['accuracy'])\n",
    "\n",
    "history = model.fit(x_train, y_train,\n",
    "                    batch_size=batch_size,\n",
    "                    epochs=epochs,\n",
    "                    verbose=1,\n",
    "                    validation_data=(x_test, y_test))\n",
    "score = model.evaluate(x_test, y_test, verbose=0)\n",
    "print('Test loss:', score[0])\n",
    "print('Test accuracy:', score[1])"
   ]
  },
  {
   "cell_type": "markdown",
   "metadata": {},
   "source": [
    "### Soal 5.3 (6 poin)\n",
    "\n",
    "Adaptasi kode pada soal 5.2 untuk dapat berjalan pada data gambar hitam-putih. Apakah hasilnya jadi lebih baik atau lebih buruk? Sesuaikah ini dengan ekspektasi Anda?"
   ]
  },
  {
   "cell_type": "code",
   "execution_count": 23,
   "metadata": {},
   "outputs": [
    {
     "name": "stdout",
     "output_type": "stream",
     "text": [
      "1400 train samples\n",
      "601 test samples\n",
      "_________________________________________________________________\n",
      "Layer (type)                 Output Shape              Param #   \n",
      "=================================================================\n",
      "dense_10 (Dense)             (None, 512)               401920    \n",
      "_________________________________________________________________\n",
      "dropout_7 (Dropout)          (None, 512)               0         \n",
      "_________________________________________________________________\n",
      "dense_11 (Dense)             (None, 512)               262656    \n",
      "_________________________________________________________________\n",
      "dropout_8 (Dropout)          (None, 512)               0         \n",
      "_________________________________________________________________\n",
      "dense_12 (Dense)             (None, 1)                 513       \n",
      "=================================================================\n",
      "Total params: 665,089\n",
      "Trainable params: 665,089\n",
      "Non-trainable params: 0\n",
      "_________________________________________________________________\n",
      "Train on 1400 samples, validate on 601 samples\n",
      "Epoch 1/20\n",
      "1400/1400 [==============================] - 0s - loss: 1.0786 - acc: 0.5100 - val_loss: 0.7220 - val_acc: 0.5125\n",
      "Epoch 2/20\n",
      "1400/1400 [==============================] - 0s - loss: 0.7030 - acc: 0.5229 - val_loss: 0.7534 - val_acc: 0.5108\n",
      "Epoch 3/20\n",
      "1400/1400 [==============================] - 0s - loss: 0.7107 - acc: 0.5229 - val_loss: 0.6832 - val_acc: 0.5790\n",
      "Epoch 4/20\n",
      "1400/1400 [==============================] - 0s - loss: 0.7074 - acc: 0.5321 - val_loss: 0.6842 - val_acc: 0.5674\n",
      "Epoch 5/20\n",
      "1400/1400 [==============================] - 0s - loss: 0.6984 - acc: 0.5371 - val_loss: 0.7771 - val_acc: 0.4892\n",
      "Epoch 6/20\n",
      "1400/1400 [==============================] - 0s - loss: 0.6956 - acc: 0.5479 - val_loss: 0.6921 - val_acc: 0.5092\n",
      "Epoch 7/20\n",
      "1400/1400 [==============================] - 0s - loss: 0.6878 - acc: 0.5671 - val_loss: 0.6926 - val_acc: 0.5557\n",
      "Epoch 8/20\n",
      "1400/1400 [==============================] - 0s - loss: 0.7009 - acc: 0.5864 - val_loss: 0.6775 - val_acc: 0.5990\n",
      "Epoch 9/20\n",
      "1400/1400 [==============================] - 0s - loss: 0.6844 - acc: 0.6064 - val_loss: 0.6833 - val_acc: 0.5641\n",
      "Epoch 10/20\n",
      "1400/1400 [==============================] - 0s - loss: 0.6524 - acc: 0.6093 - val_loss: 0.7166 - val_acc: 0.4792\n",
      "Epoch 11/20\n",
      "1400/1400 [==============================] - 0s - loss: 0.6375 - acc: 0.6293 - val_loss: 0.6893 - val_acc: 0.5674\n",
      "Epoch 12/20\n",
      "1400/1400 [==============================] - 0s - loss: 0.6665 - acc: 0.5886 - val_loss: 0.7464 - val_acc: 0.4958\n",
      "Epoch 13/20\n",
      "1400/1400 [==============================] - 0s - loss: 0.6350 - acc: 0.6279 - val_loss: 0.6883 - val_acc: 0.5358\n",
      "Epoch 14/20\n",
      "1400/1400 [==============================] - 0s - loss: 0.6834 - acc: 0.6336 - val_loss: 0.6754 - val_acc: 0.6106\n",
      "Epoch 15/20\n",
      "1400/1400 [==============================] - 0s - loss: 0.6292 - acc: 0.6686 - val_loss: 0.6726 - val_acc: 0.5907\n",
      "Epoch 16/20\n",
      "1400/1400 [==============================] - 0s - loss: 0.6119 - acc: 0.6671 - val_loss: 0.7028 - val_acc: 0.5824\n",
      "Epoch 17/20\n",
      "1400/1400 [==============================] - 0s - loss: 0.6087 - acc: 0.6729 - val_loss: 0.7043 - val_acc: 0.5824\n",
      "Epoch 18/20\n",
      "1400/1400 [==============================] - 0s - loss: 0.5945 - acc: 0.6814 - val_loss: 0.6895 - val_acc: 0.5973\n",
      "Epoch 19/20\n",
      "1400/1400 [==============================] - 0s - loss: 0.6170 - acc: 0.6721 - val_loss: 0.6773 - val_acc: 0.5990\n",
      "Epoch 20/20\n",
      "1400/1400 [==============================] - 0s - loss: 0.6051 - acc: 0.6793 - val_loss: 0.7089 - val_acc: 0.5874\n",
      "Test loss: 0.708944305108\n",
      "Test accuracy: 0.587354410508\n"
     ]
    }
   ],
   "source": [
    "batch_size = 64\n",
    "epochs = 20\n",
    "\n",
    "x_train_bw = X_train_bw.reshape(X_train_bw.shape[0], 28 * 28)\n",
    "x_test_bw = X_test_bw.reshape(X_test.shape[0], 28 * 28)\n",
    "x_train_bw = x_train_bw.astype('float32')\n",
    "x_test_bw = x_test_bw.astype('float32')\n",
    "x_train_bw /= 255\n",
    "x_test_bw /= 255\n",
    "print(x_train_bw.shape[0], 'train samples')\n",
    "print(x_test_bw.shape[0], 'test samples')\n",
    "\n",
    "model = Sequential()\n",
    "model.add(Dense(512, activation='relu', input_shape=(28 * 28,)))\n",
    "model.add(Dropout(0.2))\n",
    "model.add(Dense(512, activation='relu'))\n",
    "model.add(Dropout(0.2))\n",
    "model.add(Dense(1, activation='sigmoid'))\n",
    "\n",
    "model.summary()\n",
    "\n",
    "model.compile(loss='binary_crossentropy',\n",
    "              optimizer='rmsprop',\n",
    "              metrics=['accuracy'])\n",
    "\n",
    "history = model.fit(x_train_bw, y_train,\n",
    "                    batch_size=batch_size,\n",
    "                    epochs=epochs,\n",
    "                    verbose=1,\n",
    "                    validation_data=(x_test_bw, y_test))\n",
    "score = model.evaluate(x_test_bw, y_test, verbose=0)\n",
    "print('Test loss:', score[0])\n",
    "print('Test accuracy:', score[1])"
   ]
  },
  {
   "cell_type": "markdown",
   "metadata": {},
   "source": [
    "### Soal 5.4 (5 poin)\n",
    "\n",
    "Buat variasi dari kode di atas, e.g. mengubah jumlah hidden layers, jumlah hidden units, jumlah epoch, activation function, dsb. Lalu, laporkan akurasinya.\n",
    "\n",
    "Semakin banyak variasi Anda dan semakin baik hasilnya, semakin besar poin Anda untuk soal ini."
   ]
  },
  {
   "cell_type": "code",
   "execution_count": null,
   "metadata": {
    "collapsed": true
   },
   "outputs": [],
   "source": []
  },
  {
   "cell_type": "markdown",
   "metadata": {},
   "source": [
    "## 6. Bonus: Convolutional Neural Networks (5 poin)\n",
    "\n",
    "Adaptasi kode di atas dan lihat pula contoh kode di [sini](https://github.com/fchollet/keras/blob/master/examples/mnist_cnn.py). Coba buat Convolutional Neural Network dan jalankan kodenya. Laporkan akurasinya dan gambarkan pula heatmap confusion matrix-nya! Kode CNN Anda hanya dinilai jika berhasil berjalan."
   ]
  },
  {
   "cell_type": "code",
   "execution_count": null,
   "metadata": {
    "collapsed": true
   },
   "outputs": [],
   "source": []
  }
 ],
 "metadata": {
  "anaconda-cloud": {},
  "kernelspec": {
   "display_name": "Python 3",
   "language": "python",
   "name": "python3"
  },
  "language_info": {
   "codemirror_mode": {
    "name": "ipython",
    "version": 3
   },
   "file_extension": ".py",
   "mimetype": "text/x-python",
   "name": "python",
   "nbconvert_exporter": "python",
   "pygments_lexer": "ipython3",
   "version": "3.6.2"
  }
 },
 "nbformat": 4,
 "nbformat_minor": 2
}
